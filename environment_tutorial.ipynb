{
 "cells": [
  {
   "cell_type": "code",
   "execution_count": 1,
   "metadata": {
    "collapsed": true
   },
   "outputs": [],
   "source": [
    "from environment.env import Coin\n",
    "from environment.portfolio import Portfolio"
   ]
  },
  {
   "cell_type": "code",
   "execution_count": 2,
   "metadata": {
    "collapsed": true
   },
   "outputs": [],
   "source": [
    "coin = Coin(\"ethereum\")"
   ]
  },
  {
   "cell_type": "code",
   "execution_count": 3,
   "metadata": {},
   "outputs": [
    {
     "name": "stdout",
     "output_type": "stream",
     "text": [
      "Date          2015-08-07 00:00:00\n",
      "Open                         2.83\n",
      "High                         3.54\n",
      "Low                          2.52\n",
      "Close                        2.77\n",
      "Volume                    164,329\n",
      "Market Cap                      -\n",
      "Name: 0, dtype: object\n",
      "Date          2015-08-08 00:00:00\n",
      "Open                         2.79\n",
      "High                          2.8\n",
      "Low                      0.714725\n",
      "Close                    0.753325\n",
      "Volume                    674,188\n",
      "Market Cap            167,911,000\n",
      "Name: 1, dtype: object\n",
      "Date          2015-08-09 00:00:00\n",
      "Open                     0.706136\n",
      "High                      0.87981\n",
      "Low                      0.629191\n",
      "Close                    0.701897\n",
      "Volume                    532,170\n",
      "Market Cap             42,637,600\n",
      "Name: 2, dtype: object\n"
     ]
    }
   ],
   "source": [
    "print coin.getNext()\n",
    "print coin.getNext()\n",
    "print coin.getNext()"
   ]
  },
  {
   "cell_type": "code",
   "execution_count": 4,
   "metadata": {
    "collapsed": true
   },
   "outputs": [],
   "source": [
    "coin = Coin(\"ethereum\")\n",
    "portfolio = Portfolio(portfolio_cash=1000, coin=coin)"
   ]
  },
  {
   "cell_type": "code",
   "execution_count": 5,
   "metadata": {},
   "outputs": [
    {
     "name": "stdout",
     "output_type": "stream",
     "text": [
      "0.00 coins, 1000.00 cash, 1000.00 current value, 0.00 percent returns\n"
     ]
    }
   ],
   "source": [
    "print portfolio.getCurrentHoldings()"
   ]
  },
  {
   "cell_type": "code",
   "execution_count": 6,
   "metadata": {},
   "outputs": [
    {
     "name": "stdout",
     "output_type": "stream",
     "text": [
      "100.00 coins, 924.67 cash, 1000.00 current value, 0.00 percent returns\n"
     ]
    }
   ],
   "source": [
    "portfolio.executeOrder(100)\n",
    "new_state = coin.getNext()\n",
    "print portfolio.getCurrentHoldings()"
   ]
  },
  {
   "cell_type": "code",
   "execution_count": 7,
   "metadata": {},
   "outputs": [
    {
     "name": "stdout",
     "output_type": "stream",
     "text": [
      "200.00 coins, 854.48 cash, 994.86 current value, -0.51 percent returns\n"
     ]
    }
   ],
   "source": [
    "portfolio.executeOrder(100)\n",
    "new_state = coin.getNext()\n",
    "print portfolio.getCurrentHoldings()"
   ]
  },
  {
   "cell_type": "code",
   "execution_count": 8,
   "metadata": {},
   "outputs": [
    {
     "name": "stdout",
     "output_type": "stream",
     "text": [
      "300.00 coins, 783.63 cash, 996.17 current value, -0.38 percent returns\n"
     ]
    }
   ],
   "source": [
    "portfolio.executeOrder(100)\n",
    "new_state = coin.getNext()\n",
    "print portfolio.getCurrentHoldings()"
   ]
  },
  {
   "cell_type": "code",
   "execution_count": 9,
   "metadata": {},
   "outputs": [
    {
     "name": "stdout",
     "output_type": "stream",
     "text": [
      "400.00 coins, 676.63 cash, 1104.63 current value, 10.46 percent returns\n"
     ]
    }
   ],
   "source": [
    "portfolio.executeOrder(100)\n",
    "new_state = coin.getNext()\n",
    "print portfolio.getCurrentHoldings()"
   ]
  },
  {
   "cell_type": "code",
   "execution_count": 10,
   "metadata": {},
   "outputs": [
    {
     "name": "stdout",
     "output_type": "stream",
     "text": [
      "500.00 coins, 554.63 cash, 1164.63 current value, 16.46 percent returns\n"
     ]
    }
   ],
   "source": [
    "portfolio.executeOrder(100)\n",
    "new_state = coin.getNext()\n",
    "print portfolio.getCurrentHoldings()"
   ]
  },
  {
   "cell_type": "code",
   "execution_count": 11,
   "metadata": {},
   "outputs": [
    {
     "name": "stdout",
     "output_type": "stream",
     "text": [
      "600.00 coins, 371.63 cash, 1469.63 current value, 46.96 percent returns\n"
     ]
    }
   ],
   "source": [
    "portfolio.executeOrder(100)\n",
    "new_state = coin.getNext()\n",
    "print portfolio.getCurrentHoldings()"
   ]
  },
  {
   "cell_type": "code",
   "execution_count": 12,
   "metadata": {},
   "outputs": [
    {
     "name": "stdout",
     "output_type": "stream",
     "text": [
      "700.00 coins, 188.63 cash, 1469.63 current value, 46.96 percent returns\n"
     ]
    }
   ],
   "source": [
    "portfolio.executeOrder(100)\n",
    "new_state = coin.getNext()\n",
    "print portfolio.getCurrentHoldings()"
   ]
  },
  {
   "cell_type": "code",
   "execution_count": 13,
   "metadata": {},
   "outputs": [
    {
     "name": "stdout",
     "output_type": "stream",
     "text": [
      "800.00 coins, 19.63 cash, 1371.63 current value, 37.16 percent returns\n"
     ]
    }
   ],
   "source": [
    "portfolio.executeOrder(100)\n",
    "new_state = coin.getNext()\n",
    "print portfolio.getCurrentHoldings()"
   ]
  },
  {
   "cell_type": "code",
   "execution_count": 14,
   "metadata": {},
   "outputs": [
    {
     "name": "stdout",
     "output_type": "stream",
     "text": [
      "812.51 coins, 0.00 cash, 1275.63 current value, 27.56 percent returns\n"
     ]
    }
   ],
   "source": [
    "portfolio.executeOrder(100)\n",
    "new_state = coin.getNext()\n",
    "print portfolio.getCurrentHoldings()"
   ]
  },
  {
   "cell_type": "code",
   "execution_count": 15,
   "metadata": {},
   "outputs": [
    {
     "name": "stdout",
     "output_type": "stream",
     "text": [
      "812.51 coins, 0.00 cash, 975.01 current value, -2.50 percent returns\n"
     ]
    }
   ],
   "source": [
    "portfolio.executeOrder(100)\n",
    "new_state = coin.getNext()\n",
    "print portfolio.getCurrentHoldings()"
   ]
  },
  {
   "cell_type": "code",
   "execution_count": 16,
   "metadata": {},
   "outputs": [
    {
     "name": "stdout",
     "output_type": "stream",
     "text": [
      "812.51 coins, 0.00 cash, 237625.24 current value, 23662.52 percent returns\n"
     ]
    }
   ],
   "source": [
    "## if we continue to hold and not sell\n",
    "while new_state is not None:\n",
    "    portfolio.executeOrder(0)\n",
    "    new_state = coin.getNext()\n",
    "\n",
    "print portfolio.getCurrentHoldings()"
   ]
  },
  {
   "cell_type": "code",
   "execution_count": null,
   "metadata": {
    "collapsed": true
   },
   "outputs": [],
   "source": []
  },
  {
   "cell_type": "code",
   "execution_count": null,
   "metadata": {
    "collapsed": true
   },
   "outputs": [],
   "source": []
  }
 ],
 "metadata": {
  "kernelspec": {
   "display_name": "Python 2",
   "language": "python",
   "name": "python2"
  },
  "language_info": {
   "codemirror_mode": {
    "name": "ipython",
    "version": 2
   },
   "file_extension": ".py",
   "mimetype": "text/x-python",
   "name": "python",
   "nbconvert_exporter": "python",
   "pygments_lexer": "ipython2",
   "version": "2.7.13"
  }
 },
 "nbformat": 4,
 "nbformat_minor": 2
}
