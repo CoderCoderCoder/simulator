{
 "cells": [
  {
   "cell_type": "code",
   "execution_count": 1,
   "metadata": {},
   "outputs": [
    {
     "name": "stderr",
     "output_type": "stream",
     "text": [
      "Using TensorFlow backend.\n"
     ]
    }
   ],
   "source": [
    "from environment.env import Coin\n",
    "from environment.portfolio import Portfolio\n",
    "from environment.simulator import Simulator\n",
    "from environment.simulator import Action\n",
    "from environment.trader import QValue_NN, Crypto_Trader"
   ]
  },
  {
   "cell_type": "markdown",
   "metadata": {},
   "source": [
    "## Never Buy"
   ]
  },
  {
   "cell_type": "code",
   "execution_count": 2,
   "metadata": {
    "collapsed": true
   },
   "outputs": [],
   "source": [
    "trader = Crypto_Trader(num_episodes = 50, epsilon_min = 0, \n",
    "                       coin_name = 'jason_never_buy', \n",
    "                       num_coins_per_order=3, \n",
    "                       init_capital=10000,\n",
    "                       epsilon=0.1,\n",
    "                       features=[\"rolling_mean\", \"rolling_std\"]\n",
    "                      )"
   ]
  },
  {
   "cell_type": "code",
   "execution_count": 3,
   "metadata": {},
   "outputs": [
    {
     "data": {
      "image/png": "[encoded data removed]",
      "text/plain": [
       "<matplotlib.figure.Figure at 0x11f4bb3d0>"
      ]
     },
     "metadata": {},
     "output_type": "display_data"
    }
   ],
   "source": [
    "trader.plot_coin_price()"
   ]
  },
  {
   "cell_type": "code",
   "execution_count": 4,
   "metadata": {
    "scrolled": false
   },
   "outputs": [
    {
     "name": "stdout",
     "output_type": "stream",
     "text": [
      "[ 0.  0.]\n",
      "[ 0.  0.  0.]\n",
      "[ 0.  0.  0.  0.]\n",
      "[ 0.  0.  0.  0.  0.]\n",
      "episode: 1/50, reward: 0.0, epsilon: 0.1\n",
      "[ 0.  0.]\n",
      "[ 0.  0.  0.]\n",
      "[ 0.  0.  0.  0.]\n",
      "[ 0.  0.  0.  0.  0.]\n",
      "episode: 2/50, reward: 0.0, epsilon: 0.1\n",
      "[ 0.  0.]\n",
      "[ 0.      0.     -0.0003]\n",
      "[ 0.          0.         -0.0003     -0.00030009]\n",
      "[ 0.          0.         -0.0003     -0.00030009 -0.00060036]\n",
      "episode: 3/50, reward: -0.12, epsilon: 0.1\n",
      "[ 0.  0.]\n",
      "[ 0.  0.  0.]\n",
      "[ 0.  0.  0.  0.]\n",
      "[ 0.  0.  0.  0.  0.]\n",
      "episode: 4/50, reward: 0.0, epsilon: 0.1\n",
      "[ 0.  0.]\n",
      "[ 0.  0.  0.]\n",
      "[ 0.  0.  0.  0.]\n",
      "[ 0.      0.      0.      0.     -0.0003]\n",
      "episode: 5/50, reward: -0.03, epsilon: 0.1\n",
      "[ 0.  0.]\n",
      "[ 0.  0.  0.]\n",
      "[ 0.  0.  0.  0.]\n",
      "[ 0.  0.  0.  0.  0.]\n",
      "episode: 6/50, reward: 0.0, epsilon: 0.1\n",
      "[ 0.  0.]\n",
      "[ 0.  0.  0.]\n",
      "[ 0.  0.  0.  0.]\n",
      "[ 0.  0.  0.  0.  0.]\n",
      "episode: 7/50, reward: 0.0, epsilon: 0.1\n",
      "[ 0.  0.]\n",
      "[ 0.  0.  0.]\n",
      "[ 0.  0.  0.  0.]\n",
      "[ 0.  0.  0.  0.  0.]\n",
      "episode: 8/50, reward: 0.0, epsilon: 0.1\n",
      "[ 0.  0.]\n",
      "[ 0.  0.  0.]\n",
      "[ 0.  0.  0.  0.]\n",
      "[ 0.      0.      0.      0.     -0.0003]\n",
      "episode: 9/50, reward: -0.03, epsilon: 0.1\n",
      "[ 0.  0.]\n",
      "[ 0.  0.  0.]\n",
      "[ 0.  0.  0.  0.]\n",
      "[ 0.  0.  0.  0.  0.]\n",
      "episode: 10/50, reward: 0.0, epsilon: 0.1\n",
      "[ 0.  0.]\n",
      "[ 0.  0.  0.]\n",
      "[ 0.  0.  0.  0.]\n",
      "[ 0.  0.  0.  0.  0.]\n",
      "episode: 11/50, reward: 0.0, epsilon: 0.1\n",
      "[ 0.  0.]\n",
      "[ 0.  0.  0.]\n",
      "[ 0.  0.  0.  0.]\n",
      "[ 0.  0.  0.  0.  0.]\n",
      "episode: 12/50, reward: 0.0, epsilon: 0.1\n",
      "[ 0.  0.]\n",
      "[ 0.  0.  0.]\n",
      "[ 0.  0.  0.  0.]\n",
      "[ 0.      0.      0.      0.     -0.0003]\n",
      "episode: 13/50, reward: -0.03, epsilon: 0.1\n",
      "[ 0.  0.]\n",
      "[ 0.  0.  0.]\n",
      "[ 0.  0.  0.  0.]\n",
      "[ 0.  0.  0.  0.  0.]\n",
      "episode: 14/50, reward: 0.0, epsilon: 0.1\n",
      "[ 0.  0.]\n",
      "[ 0.  0.  0.]\n",
      "[ 0.  0.  0.  0.]\n",
      "[ 0.  0.  0.  0.  0.]\n",
      "episode: 15/50, reward: 0.0, epsilon: 0.1\n",
      "[ 0.  0.]\n",
      "[ 0.  0.  0.]\n",
      "[ 0.  0.  0.  0.]\n",
      "[ 0.  0.  0.  0.  0.]\n",
      "episode: 16/50, reward: 0.0, epsilon: 0.1\n",
      "[ 0.  0.]\n",
      "[ 0.  0.  0.]\n",
      "[ 0.  0.  0.  0.]\n",
      "[ 0.  0.  0.  0.  0.]\n",
      "episode: 17/50, reward: 0.0, epsilon: 0.1\n",
      "[ 0.  0.]\n",
      "[ 0.  0.  0.]\n",
      "[ 0.  0.  0.  0.]\n",
      "[ 0.  0.  0.  0.  0.]\n",
      "episode: 18/50, reward: 0.0, epsilon: 0.1\n",
      "[ 0.  0.]\n",
      "[ 0.  0.  0.]\n",
      "[ 0.      0.      0.     -0.0003]\n",
      "[ 0.          0.          0.         -0.0003     -0.00030009]\n",
      "episode: 19/50, reward: -0.06, epsilon: 0.1\n",
      "[ 0.  0.]\n",
      "[ 0.  0.  0.]\n",
      "[ 0.  0.  0.  0.]\n",
      "[ 0.      0.      0.      0.     -0.0003]\n",
      "episode: 20/50, reward: -0.03, epsilon: 0.1\n",
      "[ 0.  0.]\n",
      "[ 0.  0.  0.]\n",
      "[ 0.  0.  0.  0.]\n",
      "[ 0.  0.  0.  0.  0.]\n",
      "episode: 21/50, reward: 0.0, epsilon: 0.1\n",
      "[ 0.  0.]\n",
      "[ 0.  0.  0.]\n",
      "[ 0.  0.  0.  0.]\n",
      "[ 0.  0.  0.  0.  0.]\n",
      "episode: 22/50, reward: 0.0, epsilon: 0.1\n",
      "[ 0.  0.]\n",
      "[ 0.  0.  0.]\n",
      "[ 0.  0.  0.  0.]\n",
      "[ 0.  0.  0.  0.  0.]\n",
      "episode: 23/50, reward: 0.0, epsilon: 0.1\n",
      "[ 0.  0.]\n",
      "[ 0.  0.  0.]\n",
      "[ 0.      0.      0.     -0.0003]\n",
      "[ 0.          0.          0.         -0.0003     -0.00030009]\n",
      "episode: 24/50, reward: -0.06, epsilon: 0.1\n",
      "[ 0.  0.]\n",
      "[ 0.  0.  0.]\n",
      "[ 0.  0.  0.  0.]\n",
      "[ 0.      0.      0.      0.     -0.0003]\n",
      "episode: 25/50, reward: -0.03, epsilon: 0.1\n",
      "[ 0.  0.]\n",
      "[ 0.  0.  0.]\n",
      "[ 0.  0.  0.  0.]\n",
      "[ 0.  0.  0.  0.  0.]\n",
      "episode: 26/50, reward: 0.0, epsilon: 0.1\n",
      "[ 0.  0.]\n",
      "[ 0.  0.  0.]\n",
      "[ 0.  0.  0.  0.]\n",
      "[ 0.  0.  0.  0.  0.]\n",
      "episode: 27/50, reward: 0.0, epsilon: 0.1\n",
      "[ 0.  0.]\n",
      "[ 0.  0.  0.]\n",
      "[ 0.  0.  0.  0.]\n",
      "[ 0.      0.      0.      0.     -0.0003]\n",
      "episode: 28/50, reward: -0.03, epsilon: 0.1\n",
      "[ 0.  0.]\n",
      "[ 0.  0.  0.]\n",
      "[ 0.  0.  0.  0.]\n",
      "[ 0.  0.  0.  0.  0.]\n",
      "episode: 29/50, reward: 0.0, epsilon: 0.1\n",
      "[ 0.  0.]\n",
      "[ 0.  0.  0.]\n",
      "[ 0.  0.  0.  0.]\n",
      "[ 0.  0.  0.  0.  0.]\n",
      "episode: 30/50, reward: 0.0, epsilon: 0.1\n",
      "[ 0.  0.]\n",
      "[ 0.  0.  0.]\n",
      "[ 0.  0.  0.  0.]\n",
      "[ 0.  0.  0.  0.  0.]\n",
      "episode: 31/50, reward: 0.0, epsilon: 0.1\n",
      "[ 0.  0.]\n",
      "[ 0.  0.  0.]\n",
      "[ 0.  0.  0.  0.]\n",
      "[ 0.  0.  0.  0.  0.]\n",
      "episode: 32/50, reward: 0.0, epsilon: 0.1\n",
      "[ 0.  0.]\n",
      "[ 0.  0.  0.]\n",
      "[ 0.      0.      0.     -0.0003]\n",
      "[ 0.          0.          0.         -0.0003     -0.00030009]\n",
      "episode: 33/50, reward: -0.06, epsilon: 0.1\n",
      "[ 0.  0.]\n",
      "[ 0.  0.  0.]\n",
      "[ 0.  0.  0.  0.]\n",
      "[ 0.  0.  0.  0.  0.]\n",
      "episode: 34/50, reward: 0.0, epsilon: 0.1\n",
      "[ 0.  0.]\n",
      "[ 0.  0.  0.]\n",
      "[ 0.  0.  0.  0.]\n",
      "[ 0.  0.  0.  0.  0.]\n",
      "episode: 35/50, reward: 0.0, epsilon: 0.1\n",
      "[ 0.  0.]\n",
      "[ 0.  0.  0.]\n",
      "[ 0.  0.  0.  0.]\n",
      "[ 0.  0.  0.  0.  0.]\n",
      "episode: 36/50, reward: 0.0, epsilon: 0.1\n",
      "[ 0.  0.]\n",
      "[ 0.      0.     -0.0003]\n",
      "[ 0.          0.         -0.0003     -0.00030009]\n",
      "[ 0.          0.         -0.0003     -0.00030009 -0.00060036]\n",
      "episode: 37/50, reward: -0.12, epsilon: 0.1\n",
      "[ 0.  0.]\n",
      "[ 0.  0.  0.]\n",
      "[ 0.  0.  0.  0.]\n",
      "[ 0.  0.  0.  0.  0.]\n",
      "episode: 38/50, reward: 0.0, epsilon: 0.1\n",
      "[ 0.  0.]\n",
      "[ 0.  0.  0.]\n",
      "[ 0.  0.  0.  0.]\n",
      "[ 0.  0.  0.  0.  0.]\n",
      "episode: 39/50, reward: 0.0, epsilon: 0.1\n",
      "[ 0.  0.]\n",
      "[ 0.  0.  0.]\n",
      "[ 0.      0.      0.     -0.0003]\n",
      "[ 0.          0.          0.         -0.0003     -0.00030009]\n",
      "episode: 40/50, reward: -0.06, epsilon: 0.1\n",
      "[ 0.  0.]\n",
      "[ 0.  0.  0.]\n",
      "[ 0.  0.  0.  0.]\n",
      "[ 0.  0.  0.  0.  0.]\n",
      "episode: 41/50, reward: 0.0, epsilon: 0.1\n",
      "[ 0.  0.]\n",
      "[ 0.  0.  0.]\n",
      "[ 0.  0.  0.  0.]\n",
      "[ 0.  0.  0.  0.  0.]\n",
      "episode: 42/50, reward: 0.0, epsilon: 0.1\n",
      "[ 0.  0.]\n",
      "[ 0.  0.  0.]\n",
      "[ 0.  0.  0.  0.]\n",
      "[ 0.  0.  0.  0.  0.]\n",
      "episode: 43/50, reward: 0.0, epsilon: 0.1\n",
      "[ 0.  0.]\n",
      "[ 0.  0.  0.]\n",
      "[ 0.  0.  0.  0.]\n",
      "[ 0.  0.  0.  0.  0.]\n",
      "episode: 44/50, reward: 0.0, epsilon: 0.1\n",
      "[ 0.  0.]\n",
      "[ 0.  0.  0.]\n",
      "[ 0.  0.  0.  0.]\n",
      "[ 0.  0.  0.  0.  0.]\n",
      "episode: 45/50, reward: 0.0, epsilon: 0.1\n",
      "[ 0.  0.]\n",
      "[ 0.  0.  0.]\n",
      "[ 0.  0.  0.  0.]\n",
      "[ 0.  0.  0.  0.  0.]\n",
      "episode: 46/50, reward: 0.0, epsilon: 0.1\n",
      "[ 0.  0.]\n",
      "[ 0.  0.  0.]\n",
      "[ 0.  0.  0.  0.]\n",
      "[ 0.      0.      0.      0.     -0.0003]\n",
      "episode: 47/50, reward: -0.03, epsilon: 0.1\n",
      "[ 0.  0.]\n",
      "[ 0.  0.  0.]\n",
      "[ 0.  0.  0.  0.]\n",
      "[ 0.  0.  0.  0.  0.]\n",
      "episode: 48/50, reward: 0.0, epsilon: 0.1\n",
      "[ 0.  0.]\n",
      "[ 0.  0.  0.]\n",
      "[ 0.  0.  0.  0.]\n",
      "[ 0.  0.  0.  0.  0.]\n",
      "episode: 49/50, reward: 0.0, epsilon: 0.1\n",
      "[ 0.  0.]\n",
      "[ 0.  0.  0.]\n",
      "[ 0.  0.  0.  0.]\n",
      "[ 0.  0.  0.  0.  0.]\n",
      "episode: 50/50, reward: 0.0, epsilon: 0.1\n"
     ]
    },
    {
     "ename": "IOError",
     "evalue": "Unable to create file (Unable to open file: name = 'model/jason_never_buy.model.v2.h5', errno = 2, error message = 'no such file or directory', flags = 13, o_flags = 602)",
     "output_type": "error",
     "traceback": [
      "\u001b[0;31m---------------------------------------------------------------------------\u001b[0m",
      "\u001b[0;31mIOError\u001b[0m                                   Traceback (most recent call last)",
      "\u001b[0;32m<ipython-input-4-94348a24d296>\u001b[0m in \u001b[0;36m<module>\u001b[0;34m()\u001b[0m\n\u001b[0;32m----> 1\u001b[0;31m \u001b[0mtrader\u001b[0m\u001b[0;34m.\u001b[0m\u001b[0mtrain\u001b[0m\u001b[0;34m(\u001b[0m\u001b[0;34m)\u001b[0m\u001b[0;34m\u001b[0m\u001b[0m\n\u001b[0m",
      "\u001b[0;32m/Users/jasonxie/Desktop/personal_git/GT-Research/environment/trader.pyc\u001b[0m in \u001b[0;36mtrain\u001b[0;34m(self)\u001b[0m\n\u001b[1;32m    180\u001b[0m                 \u001b[0mself\u001b[0m\u001b[0;34m.\u001b[0m\u001b[0mreplay\u001b[0m\u001b[0;34m(\u001b[0m\u001b[0;34m)\u001b[0m\u001b[0;34m\u001b[0m\u001b[0m\n\u001b[1;32m    181\u001b[0m \u001b[0;34m\u001b[0m\u001b[0m\n\u001b[0;32m--> 182\u001b[0;31m         \u001b[0mself\u001b[0m\u001b[0;34m.\u001b[0m\u001b[0mtarget_model\u001b[0m\u001b[0;34m.\u001b[0m\u001b[0msave\u001b[0m\u001b[0;34m(\u001b[0m\u001b[0;34m'model/{}.model.v2.h5'\u001b[0m\u001b[0;34m.\u001b[0m\u001b[0mformat\u001b[0m\u001b[0;34m(\u001b[0m\u001b[0mself\u001b[0m\u001b[0;34m.\u001b[0m\u001b[0mcoin_name\u001b[0m\u001b[0;34m)\u001b[0m\u001b[0;34m)\u001b[0m\u001b[0;34m\u001b[0m\u001b[0m\n\u001b[0m\u001b[1;32m    183\u001b[0m \u001b[0;34m\u001b[0m\u001b[0m\n\u001b[1;32m    184\u001b[0m \u001b[0;34m\u001b[0m\u001b[0m\n",
      "\u001b[0;32m/Users/jasonxie/Desktop/personal_git/GT-Research/environment/trader.pyc\u001b[0m in \u001b[0;36msave\u001b[0;34m(self, path)\u001b[0m\n\u001b[1;32m     62\u001b[0m \u001b[0;34m\u001b[0m\u001b[0m\n\u001b[1;32m     63\u001b[0m     \u001b[0;32mdef\u001b[0m \u001b[0msave\u001b[0m\u001b[0;34m(\u001b[0m\u001b[0mself\u001b[0m\u001b[0;34m,\u001b[0m \u001b[0mpath\u001b[0m\u001b[0;34m)\u001b[0m\u001b[0;34m:\u001b[0m\u001b[0;34m\u001b[0m\u001b[0m\n\u001b[0;32m---> 64\u001b[0;31m         \u001b[0mself\u001b[0m\u001b[0;34m.\u001b[0m\u001b[0m_model\u001b[0m\u001b[0;34m.\u001b[0m\u001b[0msave_weights\u001b[0m\u001b[0;34m(\u001b[0m\u001b[0mpath\u001b[0m\u001b[0;34m)\u001b[0m\u001b[0;34m\u001b[0m\u001b[0m\n\u001b[0m\u001b[1;32m     65\u001b[0m \u001b[0;34m\u001b[0m\u001b[0m\n\u001b[1;32m     66\u001b[0m     \u001b[0;32mdef\u001b[0m \u001b[0mload\u001b[0m\u001b[0;34m(\u001b[0m\u001b[0mself\u001b[0m\u001b[0;34m,\u001b[0m \u001b[0mpath\u001b[0m\u001b[0;34m)\u001b[0m\u001b[0;34m:\u001b[0m\u001b[0;34m\u001b[0m\u001b[0m\n",
      "\u001b[0;32m/usr/local/lib/python2.7/site-packages/keras/models.pyc\u001b[0m in \u001b[0;36msave_weights\u001b[0;34m(self, filepath, overwrite)\u001b[0m\n\u001b[1;32m    735\u001b[0m             \u001b[0mlayers\u001b[0m \u001b[0;34m=\u001b[0m \u001b[0mself\u001b[0m\u001b[0;34m.\u001b[0m\u001b[0mlayers\u001b[0m\u001b[0;34m\u001b[0m\u001b[0m\n\u001b[1;32m    736\u001b[0m \u001b[0;34m\u001b[0m\u001b[0m\n\u001b[0;32m--> 737\u001b[0;31m         \u001b[0mf\u001b[0m \u001b[0;34m=\u001b[0m \u001b[0mh5py\u001b[0m\u001b[0;34m.\u001b[0m\u001b[0mFile\u001b[0m\u001b[0;34m(\u001b[0m\u001b[0mfilepath\u001b[0m\u001b[0;34m,\u001b[0m \u001b[0;34m'w'\u001b[0m\u001b[0;34m)\u001b[0m\u001b[0;34m\u001b[0m\u001b[0m\n\u001b[0m\u001b[1;32m    738\u001b[0m         \u001b[0mtopology\u001b[0m\u001b[0;34m.\u001b[0m\u001b[0msave_weights_to_hdf5_group\u001b[0m\u001b[0;34m(\u001b[0m\u001b[0mf\u001b[0m\u001b[0;34m,\u001b[0m \u001b[0mlayers\u001b[0m\u001b[0;34m)\u001b[0m\u001b[0;34m\u001b[0m\u001b[0m\n\u001b[1;32m    739\u001b[0m         \u001b[0mf\u001b[0m\u001b[0;34m.\u001b[0m\u001b[0mflush\u001b[0m\u001b[0;34m(\u001b[0m\u001b[0;34m)\u001b[0m\u001b[0;34m\u001b[0m\u001b[0m\n",
      "\u001b[0;32m/usr/local/lib/python2.7/site-packages/h5py/_hl/files.pyc\u001b[0m in \u001b[0;36m__init__\u001b[0;34m(self, name, mode, driver, libver, userblock_size, swmr, **kwds)\u001b[0m\n\u001b[1;32m    269\u001b[0m \u001b[0;34m\u001b[0m\u001b[0m\n\u001b[1;32m    270\u001b[0m                 \u001b[0mfapl\u001b[0m \u001b[0;34m=\u001b[0m \u001b[0mmake_fapl\u001b[0m\u001b[0;34m(\u001b[0m\u001b[0mdriver\u001b[0m\u001b[0;34m,\u001b[0m \u001b[0mlibver\u001b[0m\u001b[0;34m,\u001b[0m \u001b[0;34m**\u001b[0m\u001b[0mkwds\u001b[0m\u001b[0;34m)\u001b[0m\u001b[0;34m\u001b[0m\u001b[0m\n\u001b[0;32m--> 271\u001b[0;31m                 \u001b[0mfid\u001b[0m \u001b[0;34m=\u001b[0m \u001b[0mmake_fid\u001b[0m\u001b[0;34m(\u001b[0m\u001b[0mname\u001b[0m\u001b[0;34m,\u001b[0m \u001b[0mmode\u001b[0m\u001b[0;34m,\u001b[0m \u001b[0muserblock_size\u001b[0m\u001b[0;34m,\u001b[0m \u001b[0mfapl\u001b[0m\u001b[0;34m,\u001b[0m \u001b[0mswmr\u001b[0m\u001b[0;34m=\u001b[0m\u001b[0mswmr\u001b[0m\u001b[0;34m)\u001b[0m\u001b[0;34m\u001b[0m\u001b[0m\n\u001b[0m\u001b[1;32m    272\u001b[0m \u001b[0;34m\u001b[0m\u001b[0m\n\u001b[1;32m    273\u001b[0m                 \u001b[0;32mif\u001b[0m \u001b[0mswmr_support\u001b[0m\u001b[0;34m:\u001b[0m\u001b[0;34m\u001b[0m\u001b[0m\n",
      "\u001b[0;32m/usr/local/lib/python2.7/site-packages/h5py/_hl/files.pyc\u001b[0m in \u001b[0;36mmake_fid\u001b[0;34m(name, mode, userblock_size, fapl, fcpl, swmr)\u001b[0m\n\u001b[1;32m    105\u001b[0m         \u001b[0mfid\u001b[0m \u001b[0;34m=\u001b[0m \u001b[0mh5f\u001b[0m\u001b[0;34m.\u001b[0m\u001b[0mcreate\u001b[0m\u001b[0;34m(\u001b[0m\u001b[0mname\u001b[0m\u001b[0;34m,\u001b[0m \u001b[0mh5f\u001b[0m\u001b[0;34m.\u001b[0m\u001b[0mACC_EXCL\u001b[0m\u001b[0;34m,\u001b[0m \u001b[0mfapl\u001b[0m\u001b[0;34m=\u001b[0m\u001b[0mfapl\u001b[0m\u001b[0;34m,\u001b[0m \u001b[0mfcpl\u001b[0m\u001b[0;34m=\u001b[0m\u001b[0mfcpl\u001b[0m\u001b[0;34m)\u001b[0m\u001b[0;34m\u001b[0m\u001b[0m\n\u001b[1;32m    106\u001b[0m     \u001b[0;32melif\u001b[0m \u001b[0mmode\u001b[0m \u001b[0;34m==\u001b[0m \u001b[0;34m'w'\u001b[0m\u001b[0;34m:\u001b[0m\u001b[0;34m\u001b[0m\u001b[0m\n\u001b[0;32m--> 107\u001b[0;31m         \u001b[0mfid\u001b[0m \u001b[0;34m=\u001b[0m \u001b[0mh5f\u001b[0m\u001b[0;34m.\u001b[0m\u001b[0mcreate\u001b[0m\u001b[0;34m(\u001b[0m\u001b[0mname\u001b[0m\u001b[0;34m,\u001b[0m \u001b[0mh5f\u001b[0m\u001b[0;34m.\u001b[0m\u001b[0mACC_TRUNC\u001b[0m\u001b[0;34m,\u001b[0m \u001b[0mfapl\u001b[0m\u001b[0;34m=\u001b[0m\u001b[0mfapl\u001b[0m\u001b[0;34m,\u001b[0m \u001b[0mfcpl\u001b[0m\u001b[0;34m=\u001b[0m\u001b[0mfcpl\u001b[0m\u001b[0;34m)\u001b[0m\u001b[0;34m\u001b[0m\u001b[0m\n\u001b[0m\u001b[1;32m    108\u001b[0m     \u001b[0;32melif\u001b[0m \u001b[0mmode\u001b[0m \u001b[0;34m==\u001b[0m \u001b[0;34m'a'\u001b[0m\u001b[0;34m:\u001b[0m\u001b[0;34m\u001b[0m\u001b[0m\n\u001b[1;32m    109\u001b[0m         \u001b[0;31m# Open in append mode (read/write).\u001b[0m\u001b[0;34m\u001b[0m\u001b[0;34m\u001b[0m\u001b[0m\n",
      "\u001b[0;32mh5py/_objects.pyx\u001b[0m in \u001b[0;36mh5py._objects.with_phil.wrapper (/private/var/folders/my/m6ynh3bn6tq06h7xr3js0z7r0000gn/T/pip-wdzlRM-build/h5py/_objects.c:2840)\u001b[0;34m()\u001b[0m\n",
      "\u001b[0;32mh5py/_objects.pyx\u001b[0m in \u001b[0;36mh5py._objects.with_phil.wrapper (/private/var/folders/my/m6ynh3bn6tq06h7xr3js0z7r0000gn/T/pip-wdzlRM-build/h5py/_objects.c:2798)\u001b[0;34m()\u001b[0m\n",
      "\u001b[0;32mh5py/h5f.pyx\u001b[0m in \u001b[0;36mh5py.h5f.create (/private/var/folders/my/m6ynh3bn6tq06h7xr3js0z7r0000gn/T/pip-wdzlRM-build/h5py/h5f.c:2284)\u001b[0;34m()\u001b[0m\n",
      "\u001b[0;31mIOError\u001b[0m: Unable to create file (Unable to open file: name = 'model/jason_never_buy.model.v2.h5', errno = 2, error message = 'no such file or directory', flags = 13, o_flags = 602)"
     ]
    }
   ],
   "source": [
    "trader.train()"
   ]
  },
  {
   "cell_type": "code",
   "execution_count": 5,
   "metadata": {},
   "outputs": [
    {
     "name": "stdout",
     "output_type": "stream",
     "text": [
      "[0.0, 0.0] Action.HOLD 0.0 [0.0, 0.0] False\n",
      "[0.0, 0.0] Action.HOLD 0.0 [0.0, 0.0] False\n",
      "[0.0, 0.0] Action.HOLD 0.0 [0.0, 0.0] False\n",
      "[0.0, 0.0] Action.HOLD 0.0 [0.0, 0.0] False\n",
      "[0.0, 0.0] Action.HOLD 0.0 [0.0, 0.0] True\n",
      "Test run: reward: 0.0, holdings: 0.00 coins, 10000.00 cash, 10000.00 current value, 0.00 percent returns\n"
     ]
    }
   ],
   "source": [
    "trader.test(epsilon=0.0)"
   ]
  },
  {
   "cell_type": "code",
   "execution_count": null,
   "metadata": {
    "collapsed": true
   },
   "outputs": [],
   "source": []
  },
  {
   "cell_type": "markdown",
   "metadata": {},
   "source": [
    "## Always Buy"
   ]
  },
  {
   "cell_type": "code",
   "execution_count": 9,
   "metadata": {},
   "outputs": [
    {
     "name": "stdout",
     "output_type": "stream",
     "text": [
      "2 3\n"
     ]
    }
   ],
   "source": [
    "trader = Crypto_Trader(num_episodes = 120, epsilon_min = 0, \n",
    "                       coin_name = 'jason_always_buy', \n",
    "                       num_coins_per_order=3, \n",
    "                       init_capital=10000,\n",
    "                       epsilon=0.1,\n",
    "                       features=[\"rolling_mean\", \"rolling_std\"]\n",
    "                      )"
   ]
  },
  {
   "cell_type": "code",
   "execution_count": 10,
   "metadata": {},
   "outputs": [
    {
     "data": {
      "image/png": "[encoded data removed]",
      "text/plain": [
       "<matplotlib.figure.Figure at 0x11d205590>"
      ]
     },
     "metadata": {},
     "output_type": "display_data"
    }
   ],
   "source": [
    "trader.plot_coin_price()"
   ]
  },
  {
   "cell_type": "code",
   "execution_count": 11,
   "metadata": {
    "scrolled": false
   },
   "outputs": [
    {
     "name": "stdout",
     "output_type": "stream",
     "text": [
      "episode: 1/120, reward: 0.0, epsilon: 0.1\n",
      "episode: 2/120, reward: 0.0, epsilon: 0.1\n",
      "episode: 3/120, reward: 0.0, epsilon: 0.1\n",
      "episode: 4/120, reward: 0.0, epsilon: 0.1\n",
      "episode: 5/120, reward: 0.0, epsilon: 0.1\n",
      "episode: 6/120, reward: 0.0, epsilon: 0.1\n",
      "episode: 7/120, reward: 0.0, epsilon: 0.1\n",
      "episode: 8/120, reward: 0.0, epsilon: 0.1\n",
      "episode: 9/120, reward: 0.03, epsilon: 0.1\n",
      "episode: 10/120, reward: 0.0, epsilon: 0.1\n",
      "episode: 11/120, reward: 0.0, epsilon: 0.1\n",
      "episode: 12/120, reward: 0.0, epsilon: 0.1\n",
      "episode: 13/120, reward: 0.0, epsilon: 0.1\n",
      "episode: 14/120, reward: 0.0, epsilon: 0.1\n",
      "episode: 15/120, reward: 0.0, epsilon: 0.1\n",
      "episode: 16/120, reward: 0.0, epsilon: 0.1\n",
      "episode: 17/120, reward: 0.0, epsilon: 0.1\n",
      "episode: 18/120, reward: 0.0, epsilon: 0.1\n",
      "episode: 19/120, reward: 0.0, epsilon: 0.1\n",
      "episode: 20/120, reward: 0.0, epsilon: 0.1\n",
      "episode: 21/120, reward: 0.0, epsilon: 0.1\n",
      "episode: 22/120, reward: 0.0, epsilon: 0.1\n",
      "episode: 23/120, reward: 0.06, epsilon: 0.1\n",
      "episode: 24/120, reward: 0.0, epsilon: 0.1\n",
      "episode: 25/120, reward: 0.0, epsilon: 0.1\n",
      "episode: 26/120, reward: 0.0, epsilon: 0.1\n",
      "episode: 27/120, reward: 0.0, epsilon: 0.1\n",
      "episode: 28/120, reward: 0.06, epsilon: 0.1\n",
      "episode: 29/120, reward: 0.0, epsilon: 0.1\n",
      "episode: 30/120, reward: 0.0, epsilon: 0.1\n",
      "episode: 31/120, reward: 0.0, epsilon: 0.1\n",
      "episode: 32/120, reward: 0.0, epsilon: 0.1\n",
      "episode: 33/120, reward: 0.0, epsilon: 0.1\n",
      "episode: 34/120, reward: 0.0, epsilon: 0.1\n",
      "episode: 35/120, reward: 0.0, epsilon: 0.1\n",
      "episode: 36/120, reward: 0.0, epsilon: 0.1\n",
      "episode: 37/120, reward: 0.0, epsilon: 0.1\n",
      "episode: 38/120, reward: 0.03, epsilon: 0.1\n",
      "episode: 39/120, reward: 0.0, epsilon: 0.1\n",
      "episode: 40/120, reward: 0.03, epsilon: 0.1\n",
      "episode: 41/120, reward: 0.0, epsilon: 0.1\n",
      "episode: 42/120, reward: 0.0, epsilon: 0.1\n",
      "episode: 43/120, reward: 0.0, epsilon: 0.1\n",
      "episode: 44/120, reward: 0.0, epsilon: 0.1\n",
      "episode: 45/120, reward: 0.0, epsilon: 0.1\n",
      "episode: 46/120, reward: 0.0, epsilon: 0.1\n",
      "episode: 47/120, reward: 0.0, epsilon: 0.1\n",
      "episode: 48/120, reward: 0.0, epsilon: 0.1\n",
      "episode: 49/120, reward: 0.0, epsilon: 0.1\n",
      "episode: 50/120, reward: 0.0, epsilon: 0.1\n",
      "episode: 51/120, reward: 0.0, epsilon: 0.1\n",
      "episode: 52/120, reward: 0.0, epsilon: 0.1\n",
      "episode: 53/120, reward: 0.0, epsilon: 0.1\n",
      "episode: 54/120, reward: 0.0, epsilon: 0.1\n",
      "episode: 55/120, reward: 0.0, epsilon: 0.1\n",
      "episode: 56/120, reward: 0.06, epsilon: 0.1\n",
      "episode: 57/120, reward: 0.0, epsilon: 0.1\n",
      "episode: 58/120, reward: 0.0, epsilon: 0.1\n",
      "episode: 59/120, reward: 0.0, epsilon: 0.1\n",
      "episode: 60/120, reward: 0.0, epsilon: 0.1\n",
      "episode: 61/120, reward: 0.0, epsilon: 0.1\n",
      "episode: 62/120, reward: 0.0, epsilon: 0.099\n",
      "episode: 63/120, reward: 0.0, epsilon: 0.098\n",
      "episode: 64/120, reward: 0.0, epsilon: 0.097\n",
      "episode: 65/120, reward: 0.0, epsilon: 0.096\n",
      "episode: 66/120, reward: 0.0, epsilon: 0.095\n",
      "episode: 67/120, reward: 0.0, epsilon: 0.094\n",
      "episode: 68/120, reward: 0.0, epsilon: 0.093\n",
      "episode: 69/120, reward: 0.0, epsilon: 0.092\n",
      "episode: 70/120, reward: 0.0, epsilon: 0.091\n",
      "episode: 71/120, reward: 0.0, epsilon: 0.09\n",
      "episode: 72/120, reward: 0.3, epsilon: 0.09\n",
      "episode: 73/120, reward: 0.3, epsilon: 0.089\n",
      "episode: 74/120, reward: 0.24, epsilon: 0.088\n",
      "episode: 75/120, reward: 0.12, epsilon: 0.087\n",
      "episode: 76/120, reward: 0.3, epsilon: 0.086\n",
      "episode: 77/120, reward: 0.3, epsilon: 0.085\n",
      "episode: 78/120, reward: 0.3, epsilon: 0.084\n",
      "episode: 79/120, reward: 0.3, epsilon: 0.083\n",
      "episode: 80/120, reward: 0.3, epsilon: 0.083\n",
      "episode: 81/120, reward: 0.3, epsilon: 0.082\n",
      "episode: 82/120, reward: 0.3, epsilon: 0.081\n",
      "episode: 83/120, reward: 0.3, epsilon: 0.08\n",
      "episode: 84/120, reward: 0.3, epsilon: 0.079\n",
      "episode: 85/120, reward: 0.3, epsilon: 0.079\n",
      "episode: 86/120, reward: 0.12, epsilon: 0.078\n",
      "episode: 87/120, reward: 0.3, epsilon: 0.077\n",
      "episode: 88/120, reward: 0.3, epsilon: 0.076\n",
      "episode: 89/120, reward: 0.21, epsilon: 0.075\n",
      "episode: 90/120, reward: 0.3, epsilon: 0.075\n",
      "episode: 91/120, reward: 0.3, epsilon: 0.074\n",
      "episode: 92/120, reward: 0.3, epsilon: 0.073\n",
      "episode: 93/120, reward: 0.15, epsilon: 0.072\n",
      "episode: 94/120, reward: 0.3, epsilon: 0.072\n",
      "episode: 95/120, reward: 0.3, epsilon: 0.071\n",
      "episode: 96/120, reward: 0.3, epsilon: 0.07\n",
      "episode: 97/120, reward: 0.3, epsilon: 0.07\n",
      "episode: 98/120, reward: 0.3, epsilon: 0.069\n",
      "episode: 99/120, reward: 0.12, epsilon: 0.068\n",
      "episode: 100/120, reward: 0.03, epsilon: 0.068\n",
      "episode: 101/120, reward: 0.3, epsilon: 0.067\n",
      "episode: 102/120, reward: 0.3, epsilon: 0.066\n",
      "episode: 103/120, reward: 0.3, epsilon: 0.066\n",
      "episode: 104/120, reward: 0.3, epsilon: 0.065\n",
      "episode: 105/120, reward: 0.3, epsilon: 0.064\n",
      "episode: 106/120, reward: 0.3, epsilon: 0.064\n",
      "episode: 107/120, reward: 0.3, epsilon: 0.063\n",
      "episode: 108/120, reward: 0.3, epsilon: 0.062\n",
      "episode: 109/120, reward: 0.3, epsilon: 0.062\n",
      "episode: 110/120, reward: 0.3, epsilon: 0.061\n",
      "episode: 111/120, reward: 0.3, epsilon: 0.061\n",
      "episode: 112/120, reward: 0.3, epsilon: 0.06\n",
      "episode: 113/120, reward: 0.3, epsilon: 0.059\n",
      "episode: 114/120, reward: 0.3, epsilon: 0.059\n",
      "episode: 115/120, reward: 0.3, epsilon: 0.058\n",
      "episode: 116/120, reward: 0.3, epsilon: 0.058\n",
      "episode: 117/120, reward: 0.3, epsilon: 0.057\n",
      "episode: 118/120, reward: 0.3, epsilon: 0.056\n",
      "episode: 119/120, reward: 0.3, epsilon: 0.056\n",
      "episode: 120/120, reward: 0.3, epsilon: 0.055\n"
     ]
    }
   ],
   "source": [
    "trader.train()"
   ]
  },
  {
   "cell_type": "code",
   "execution_count": 12,
   "metadata": {},
   "outputs": [
    {
     "name": "stdout",
     "output_type": "stream",
     "text": [
      "[0.0, 0.0] Action.BUY 0.0 [0.0, 0.0] False\n",
      "[0.0, 0.0] Action.BUY 0.03 [0.00014999999999999999, 0.00014999999999999999] False\n",
      "[0.00014999999999999999, 0.00014999999999999999] Action.BUY 0.09 [0.00029994001799460158, 0.00024487551529796302] False\n",
      "[0.00029994001799460158, 0.00024487551529796302] Action.BUY 0.18 [0.0004497526955820737, 0.00033511867836949309] False\n",
      "[0.0004497526955820737, 0.00033511867836949309] Action.BUY 0.3 [0.00059937093266849387, 0.00042353995130221843] True\n",
      "Test run: reward: 0.3, holdings: 15.00 coins, 9880.00 cash, 10030.00 current value, 0.30 percent returns\n"
     ]
    }
   ],
   "source": [
    "trader.test(epsilon=0.0)"
   ]
  },
  {
   "cell_type": "code",
   "execution_count": null,
   "metadata": {
    "collapsed": true
   },
   "outputs": [],
   "source": []
  },
  {
   "cell_type": "markdown",
   "metadata": {},
   "source": [
    "## Buy Sell Hold"
   ]
  },
  {
   "cell_type": "code",
   "execution_count": 13,
   "metadata": {},
   "outputs": [
    {
     "name": "stdout",
     "output_type": "stream",
     "text": [
      "2 3\n"
     ]
    }
   ],
   "source": [
    "trader = Crypto_Trader(num_episodes = 120, epsilon_min = 0, \n",
    "                       coin_name = 'jason_buy_sell_hold', \n",
    "                       num_coins_per_order=3, \n",
    "                       init_capital=10000,\n",
    "                       epsilon=1.0,\n",
    "                       epsilon_decay=0.9,\n",
    "                       features=[\"rolling_mean\", \"rolling_std\"]\n",
    "                      )"
   ]
  },
  {
   "cell_type": "code",
   "execution_count": 14,
   "metadata": {},
   "outputs": [
    {
     "data": {
      "image/png": "[encoded data removed]",
      "text/plain": [
       "<matplotlib.figure.Figure at 0x11e1db4d0>"
      ]
     },
     "metadata": {},
     "output_type": "display_data"
    }
   ],
   "source": [
    "trader.plot_coin_price()"
   ]
  },
  {
   "cell_type": "code",
   "execution_count": 15,
   "metadata": {
    "scrolled": false
   },
   "outputs": [
    {
     "name": "stdout",
     "output_type": "stream",
     "text": [
      "episode: 1/100, reward: 0.09, epsilon: 1.0\n",
      "episode: 2/100, reward: -0.06, epsilon: 1.0\n",
      "episode: 3/100, reward: -0.03, epsilon: 1.0\n",
      "episode: 4/100, reward: -0.12, epsilon: 1.0\n",
      "episode: 5/100, reward: -0.12, epsilon: 1.0\n",
      "episode: 6/100, reward: -0.06, epsilon: 1.0\n",
      "episode: 7/100, reward: 0.03, epsilon: 1.0\n",
      "episode: 8/100, reward: -0.06, epsilon: 1.0\n",
      "episode: 9/100, reward: -0.03, epsilon: 1.0\n",
      "episode: 10/100, reward: -0.12, epsilon: 1.0\n",
      "episode: 11/100, reward: -0.06, epsilon: 1.0\n",
      "episode: 12/100, reward: 0.0, epsilon: 1.0\n",
      "episode: 13/100, reward: 0.03, epsilon: 1.0\n",
      "episode: 14/100, reward: -0.06, epsilon: 1.0\n",
      "episode: 15/100, reward: -0.09, epsilon: 1.0\n",
      "episode: 16/100, reward: -0.03, epsilon: 1.0\n",
      "episode: 17/100, reward: -0.03, epsilon: 1.0\n",
      "episode: 18/100, reward: -0.06, epsilon: 1.0\n",
      "episode: 19/100, reward: -0.03, epsilon: 1.0\n",
      "episode: 20/100, reward: 0.0, epsilon: 1.0\n",
      "episode: 21/100, reward: 0.0, epsilon: 1.0\n",
      "episode: 22/100, reward: -0.03, epsilon: 1.0\n",
      "episode: 23/100, reward: 0.0, epsilon: 1.0\n",
      "episode: 24/100, reward: -0.03, epsilon: 1.0\n",
      "episode: 25/100, reward: -0.15, epsilon: 1.0\n",
      "episode: 26/100, reward: 0.09, epsilon: 1.0\n",
      "episode: 27/100, reward: -0.06, epsilon: 1.0\n",
      "episode: 28/100, reward: 0.0, epsilon: 1.0\n",
      "episode: 29/100, reward: 0.06, epsilon: 1.0\n",
      "episode: 30/100, reward: 0.0, epsilon: 1.0\n",
      "episode: 31/100, reward: -0.06, epsilon: 1.0\n",
      "episode: 32/100, reward: -0.06, epsilon: 1.0\n",
      "episode: 33/100, reward: 0.06, epsilon: 1.0\n",
      "episode: 34/100, reward: -0.03, epsilon: 1.0\n",
      "episode: 35/100, reward: 0.0, epsilon: 1.0\n",
      "episode: 36/100, reward: -0.03, epsilon: 1.0\n",
      "episode: 37/100, reward: -0.06, epsilon: 1.0\n",
      "episode: 38/100, reward: -0.03, epsilon: 1.0\n",
      "episode: 39/100, reward: -0.12, epsilon: 1.0\n",
      "episode: 40/100, reward: 0.0, epsilon: 1.0\n",
      "episode: 41/100, reward: -0.12, epsilon: 1.0\n",
      "episode: 42/100, reward: -0.12, epsilon: 1.0\n",
      "episode: 43/100, reward: -0.09, epsilon: 1.0\n",
      "episode: 44/100, reward: -0.06, epsilon: 1.0\n",
      "episode: 45/100, reward: -0.06, epsilon: 1.0\n",
      "episode: 46/100, reward: -0.12, epsilon: 1.0\n",
      "episode: 47/100, reward: -0.15, epsilon: 1.0\n",
      "episode: 48/100, reward: -0.15, epsilon: 1.0\n",
      "episode: 49/100, reward: -0.15, epsilon: 1.0\n",
      "episode: 50/100, reward: -0.06, epsilon: 1.0\n",
      "episode: 51/100, reward: -0.06, epsilon: 1.0\n",
      "episode: 52/100, reward: 0.09, epsilon: 1.0\n",
      "episode: 53/100, reward: -0.06, epsilon: 1.0\n",
      "episode: 54/100, reward: -0.03, epsilon: 1.0\n",
      "episode: 55/100, reward: 0.09, epsilon: 1.0\n",
      "episode: 56/100, reward: -0.09, epsilon: 1.0\n",
      "episode: 57/100, reward: -0.15, epsilon: 1.0\n",
      "episode: 58/100, reward: 0.0, epsilon: 1.0\n",
      "episode: 59/100, reward: 0.03, epsilon: 1.0\n",
      "episode: 60/100, reward: 0.0, epsilon: 1.0\n",
      "episode: 61/100, reward: 0.0, epsilon: 1.0\n",
      "episode: 62/100, reward: 0.0, epsilon: 0.9\n",
      "episode: 63/100, reward: -0.09, epsilon: 0.81\n",
      "episode: 64/100, reward: 0.0, epsilon: 0.73\n",
      "episode: 65/100, reward: 0.0, epsilon: 0.66\n",
      "episode: 66/100, reward: 0.0, epsilon: 0.59\n",
      "episode: 67/100, reward: -0.15, epsilon: 0.53\n",
      "episode: 68/100, reward: 0.0, epsilon: 0.48\n",
      "episode: 69/100, reward: 0.0, epsilon: 0.43\n",
      "episode: 70/100, reward: -0.03, epsilon: 0.39\n",
      "episode: 71/100, reward: 0.0, epsilon: 0.35\n",
      "episode: 72/100, reward: -0.06, epsilon: 0.31\n",
      "episode: 73/100, reward: 0.0, epsilon: 0.28\n",
      "episode: 74/100, reward: 0.03, epsilon: 0.25\n",
      "episode: 75/100, reward: 0.0, epsilon: 0.23\n",
      "episode: 76/100, reward: 0.0, epsilon: 0.21\n",
      "episode: 77/100, reward: 0.0, epsilon: 0.19\n",
      "episode: 78/100, reward: -0.15, epsilon: 0.17\n",
      "episode: 79/100, reward: 0.0, epsilon: 0.15\n",
      "episode: 80/100, reward: 0.0, epsilon: 0.14\n",
      "episode: 81/100, reward: 0.0, epsilon: 0.12\n",
      "episode: 82/100, reward: 0.0, epsilon: 0.11\n",
      "episode: 83/100, reward: 0.0, epsilon: 0.098\n",
      "episode: 84/100, reward: 0.0, epsilon: 0.089\n",
      "episode: 85/100, reward: -0.15, epsilon: 0.08\n",
      "episode: 86/100, reward: 0.0, epsilon: 0.072\n",
      "episode: 87/100, reward: -0.15, epsilon: 0.065\n",
      "episode: 88/100, reward: -0.15, epsilon: 0.058\n",
      "episode: 89/100, reward: 0.0, epsilon: 0.052\n",
      "episode: 90/100, reward: 0.0, epsilon: 0.047\n",
      "episode: 91/100, reward: 0.0, epsilon: 0.042\n",
      "episode: 92/100, reward: 0.0, epsilon: 0.038\n",
      "episode: 93/100, reward: 0.0, epsilon: 0.034\n",
      "episode: 94/100, reward: 0.0, epsilon: 0.031\n",
      "episode: 95/100, reward: 0.0, epsilon: 0.028\n",
      "episode: 96/100, reward: 0.0, epsilon: 0.025\n",
      "episode: 97/100, reward: 0.0, epsilon: 0.023\n",
      "episode: 98/100, reward: 0.0, epsilon: 0.02\n",
      "episode: 99/100, reward: -0.15, epsilon: 0.018\n",
      "episode: 100/100, reward: 0.0, epsilon: 0.016\n"
     ]
    }
   ],
   "source": [
    "trader.train()"
   ]
  },
  {
   "cell_type": "code",
   "execution_count": 16,
   "metadata": {},
   "outputs": [
    {
     "name": "stdout",
     "output_type": "stream",
     "text": [
      "[0.0, 0.0] Action.HOLD 0.0 [0.0, 0.0] False\n",
      "[0.0, 0.0] Action.HOLD 0.0 [0.0, 0.0] False\n",
      "[0.0, 0.0] Action.HOLD 0.0 [0.0, 0.0] False\n",
      "[0.0, 0.0] Action.HOLD 0.0 [0.0, 0.0] False\n",
      "[0.0, 0.0] Action.HOLD 0.0 [0.0, 0.0] True\n",
      "Test run: reward: 0.0, holdings: 0.00 coins, 10000.00 cash, 10000.00 current value, 0.00 percent returns\n"
     ]
    }
   ],
   "source": [
    "trader.test(epsilon=0.0)"
   ]
  },
  {
   "cell_type": "code",
   "execution_count": null,
   "metadata": {
    "collapsed": true
   },
   "outputs": [],
   "source": []
  }
 ],
 "metadata": {
  "kernelspec": {
   "display_name": "Python 2",
   "language": "python",
   "name": "python2"
  }
 },
 "nbformat": 4,
 "nbformat_minor": 2
}
