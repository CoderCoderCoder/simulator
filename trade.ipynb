{
 "cells": [
  {
   "cell_type": "markdown",
   "metadata": {},
   "source": [
    "## Naive Models\n",
    "* bollinger band\n",
    "* always buy"
   ]
  },
  {
   "cell_type": "code",
   "execution_count": 1,
   "metadata": {
    "collapsed": true
   },
   "outputs": [],
   "source": [
    "from environment.env import Coin\n",
    "from environment.portfolio import Portfolio\n",
    "from environment.simulator import Simulator\n",
    "from environment.simulator import Action"
   ]
  },
  {
   "cell_type": "code",
   "execution_count": 2,
   "metadata": {
    "collapsed": true
   },
   "outputs": [],
   "source": [
    "def run_bollinger_band(num_coins_per_order, init_capital, coin_name):\n",
    "    simulator = Simulator(num_coins_per_order, init_capital, Coin(coin_name))\n",
    "    \n",
    "    while True:\n",
    "        current_value, avg_daily_return, sd_daily_return, sharpe_ratio, check_upper_band, check_lower_band = simulator.get_current_state()\n",
    "        if check_lower_band:\n",
    "            state, reward, isDone = simulator.act_and_step(Action.BUY)\n",
    "\n",
    "        elif check_upper_band:\n",
    "            state, reward, isDone = simulator.act_and_step(Action.SELL)\n",
    "\n",
    "        else:\n",
    "            state, reward, isDone = simulator.act_and_step(Action.HOLD)\n",
    "\n",
    "        if isDone:\n",
    "            break\n",
    "\n",
    "    return simulator"
   ]
  },
  {
   "cell_type": "code",
   "execution_count": 3,
   "metadata": {},
   "outputs": [
    {
     "name": "stdout",
     "output_type": "stream",
     "text": [
      "1 coin per order\n",
      "0.00 coins, 1158.30 cash, 1158.30 current value, 15.83 percent returns\n",
      "100 coin per order\n",
      "0.00 coins, 5150.22 cash, 5150.22 current value, 415.02 percent returns\n"
     ]
    }
   ],
   "source": [
    "simulator_1_per_order = run_bollinger_band(1, 1000, \"ethereum\")\n",
    "print \"1 coin per order\"\n",
    "print simulator_1_per_order.get_current_holdings()\n",
    "\n",
    "simulator_100_per_order = run_bollinger_band(100, 1000, \"ethereum\")\n",
    "print \"100 coin per order\"\n",
    "print simulator_100_per_order.get_current_holdings()"
   ]
  },
  {
   "cell_type": "code",
   "execution_count": null,
   "metadata": {
    "collapsed": true
   },
   "outputs": [],
   "source": []
  },
  {
   "cell_type": "code",
   "execution_count": 7,
   "metadata": {
    "collapsed": true
   },
   "outputs": [],
   "source": [
    "def run_always_buy(num_coins_per_order, init_capital, coin_name):\n",
    "    simulator = Simulator(num_coins_per_order, init_capital, Coin(coin_name))\n",
    "    \n",
    "    while True:\n",
    "        state, reward, isDone = simulator.act_and_step(Action.BUY)\n",
    "        \n",
    "        if isDone:\n",
    "            break\n",
    "\n",
    "    return simulator"
   ]
  },
  {
   "cell_type": "code",
   "execution_count": 8,
   "metadata": {},
   "outputs": [
    {
     "name": "stdout",
     "output_type": "stream",
     "text": [
      "1 coin per order\n",
      "275.79 coins, 0.00 cash, 82042.96 current value, 8104.30 percent returns\n",
      "100 coin per order\n",
      "697.69 coins, 0.00 cash, 207548.09 current value, 20654.81 percent returns\n"
     ]
    }
   ],
   "source": [
    "simulator_1_per_order = run_always_buy(1, 1000, \"ethereum\")\n",
    "print \"1 coin per order\"\n",
    "print simulator_1_per_order.get_current_holdings()\n",
    "\n",
    "simulator_100_per_order = run_always_buy(100, 1000, \"ethereum\")\n",
    "print \"100 coin per order\"\n",
    "print simulator_100_per_order.get_current_holdings()"
   ]
  },
  {
   "cell_type": "code",
   "execution_count": null,
   "metadata": {
    "collapsed": true
   },
   "outputs": [],
   "source": []
  }
 ],
 "metadata": {
  "anaconda-cloud": {},
  "kernelspec": {
   "display_name": "Python 2",
   "language": "python",
   "name": "python2"
  },
  "language_info": {
   "codemirror_mode": {
    "name": "ipython",
    "version": 2
   },
   "file_extension": ".py",
   "mimetype": "text/x-python",
   "name": "python",
   "nbconvert_exporter": "python",
   "pygments_lexer": "ipython2",
   "version": "2.7.13"
  }
 },
 "nbformat": 4,
 "nbformat_minor": 2
}
