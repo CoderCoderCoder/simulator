{
 "cells": [
  {
   "cell_type": "markdown",
   "metadata": {},
   "source": [
    "## Naive Model"
   ]
  },
  {
   "cell_type": "code",
   "execution_count": 1,
   "metadata": {
    "collapsed": true
   },
   "outputs": [],
   "source": [
    "from environment.env import Coin\n",
    "from environment.portfolio import Portfolio\n",
    "from environment.simulator import Simulator\n",
    "from environment.simulator import Action"
   ]
  },
  {
   "cell_type": "code",
   "execution_count": 2,
   "metadata": {
    "collapsed": true
   },
   "outputs": [],
   "source": [
    "def run_naive_model(num_coins_per_order, init_capital, coin_name):\n",
    "    simulator = Simulator(num_coins_per_order, init_capital, Coin(coin_name))\n",
    "    \n",
    "    while True:\n",
    "        avg_daily_return, sd_daily_return, sharpe_ratio, check_upper_band, check_lower_band = simulator.get_current_state()\n",
    "        if check_lower_band:\n",
    "            state, reward = simulator.act_and_step(Action.BUY)\n",
    "\n",
    "        elif check_upper_band:\n",
    "            state, reward = simulator.act_and_step(Action.SELL)\n",
    "\n",
    "        else:\n",
    "            state, reward = simulator.act_and_step(Action.HOLD)\n",
    "\n",
    "        if state is None:\n",
    "            break\n",
    "\n",
    "    return simulator"
   ]
  },
  {
   "cell_type": "markdown",
   "metadata": {},
   "source": [
    "### 1 Coin per Order"
   ]
  },
  {
   "cell_type": "code",
   "execution_count": 3,
   "metadata": {
    "collapsed": false
   },
   "outputs": [
    {
     "name": "stdout",
     "output_type": "stream",
     "text": [
      "0.00 coins, 1158.30 cash, 1158.30 current value, 15.83 percent returns\n"
     ]
    }
   ],
   "source": [
    "simulator_1_per_order = run_naive_model(1, 1000, \"ethereum\")\n",
    "print simulator_1_per_order.get_current_holdings()"
   ]
  },
  {
   "cell_type": "markdown",
   "metadata": {
    "collapsed": true
   },
   "source": [
    "### 100 Coins per Order"
   ]
  },
  {
   "cell_type": "code",
   "execution_count": 4,
   "metadata": {
    "collapsed": false
   },
   "outputs": [
    {
     "name": "stdout",
     "output_type": "stream",
     "text": [
      "0.00 coins, 5150.22 cash, 5150.22 current value, 415.02 percent returns\n"
     ]
    }
   ],
   "source": [
    "simulator_100_per_order = run_naive_model(100, 1000, \"ethereum\")\n",
    "print simulator_100_per_order.get_current_holdings()"
   ]
  },
  {
   "cell_type": "code",
   "execution_count": null,
   "metadata": {
    "collapsed": true
   },
   "outputs": [],
   "source": []
  }
 ],
 "metadata": {
  "anaconda-cloud": {},
  "kernelspec": {
   "display_name": "Python [default]",
   "language": "python",
   "name": "python2"
  },
  "language_info": {
   "codemirror_mode": {
    "name": "ipython",
    "version": 2
   },
   "file_extension": ".py",
   "mimetype": "text/x-python",
   "name": "python",
   "nbconvert_exporter": "python",
   "pygments_lexer": "ipython2",
   "version": "2.7.12"
  }
 },
 "nbformat": 4,
 "nbformat_minor": 2
}
